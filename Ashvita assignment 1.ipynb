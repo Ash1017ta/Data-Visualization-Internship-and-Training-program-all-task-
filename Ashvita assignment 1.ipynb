{
 "cells": [
  {
   "cell_type": "code",
   "execution_count": 30,
   "id": "15cc3ee3-a495-49bf-bef6-a16a9f965624",
   "metadata": {},
   "outputs": [
    {
     "name": "stdout",
     "output_type": "stream",
     "text": [
      "['StdId', 'StdName', 'Age', 'Hindi', 'English', 'Maths', 'Science', 'Computer', 'Total']\n"
     ]
    }
   ],
   "source": [
    "headers = ['StdId','StdName','Age','Hindi','English','Maths','Science','Computer','Total']\n",
    "print(headers)\n",
    "rows = [\n",
    "    [101,' Abhishek Sharma',15,67,89,80,89,90,415],\n",
    "    [102, 'Ashish Kumar ',15,67,89,87,19,90,352],\n",
    "    [103,' Venus Singh',15,67,89,82,89,90,418],\n",
    "    [104,' Ayush Gupta',15,67,79,87,89,90,412],\n",
    "    [105,' Himansh Verma',15,67,89,87,80,90,421],\n",
    "    [106,' Yash Chauhan' ,15,67,89,77,89,90,412],\n",
    "    [107,' Harsh Shrivastava',15,67,49,87,70,90,361],\n",
    "    [108,' Aditi Choudhary',15,67,89,87,89,91,423],\n",
    "    [109,' Ashvita Yadav',100,97,99,97,99,90,482]\n",
    "]"
   ]
  },
  {
   "cell_type": "code",
   "execution_count": 38,
   "id": "e986072a-6e28-4ef8-8016-d328f395d4c1",
   "metadata": {},
   "outputs": [
    {
     "name": "stdout",
     "output_type": "stream",
     "text": [
      "Name of student whose marks are greater than 50 in english\n",
      " Abhishek Sharma\n",
      "Ashish Kumar \n",
      " Venus Singh\n",
      " Ayush Gupta\n",
      " Himansh Verma\n",
      " Yash Chauhan\n",
      " Aditi Choudhary\n",
      " Ashvita Yadav\n"
     ]
    }
   ],
   "source": [
    "print('Name of student whose marks are greater than 50 in english')\n",
    "for i in rows:\n",
    "    if  i[4] > 50:\n",
    "        print(i[1])"
   ]
  },
  {
   "cell_type": "code",
   "execution_count": 40,
   "id": "d2d683ac-a4f4-40ae-8870-0fee1aa2d6f2",
   "metadata": {},
   "outputs": [
    {
     "name": "stdout",
     "output_type": "stream",
     "text": [
      "name and age of top four scorers in maths\n",
      " Ashvita Yadav 100\n",
      "Ashish Kumar  15\n",
      " Ayush Gupta 15\n",
      " Himansh Verma 15\n"
     ]
    }
   ],
   "source": [
    "print('name and age of top four scorers in maths')\n",
    "sorted_rows_1 = sorted(rows, key=lambda x: x[5], reverse=True)\n",
    "for i in sorted_rows_1[:4]:\n",
    "    print(i[1], i[2])"
   ]
  },
  {
   "cell_type": "code",
   "execution_count": 42,
   "id": "a3ec730d-ba67-4598-91bc-06228e071721",
   "metadata": {},
   "outputs": [
    {
     "name": "stdout",
     "output_type": "stream",
     "text": [
      "name, id of students who are bottom three scorers\n",
      "Ashish Kumar  102\n",
      " Harsh Shrivastava 107\n",
      " Ayush Gupta 104\n"
     ]
    }
   ],
   "source": [
    "print('name, id of students who are bottom three scorers')\n",
    "sorted_rows_2 = sorted(rows, key=lambda x: x[-1])\n",
    "for i in sorted_rows_2[:3]:\n",
    "    print(i[1], i[0])"
   ]
  }
 ],
 "metadata": {
  "kernelspec": {
   "display_name": "Python 3 (ipykernel)",
   "language": "python",
   "name": "python3"
  },
  "language_info": {
   "codemirror_mode": {
    "name": "ipython",
    "version": 3
   },
   "file_extension": ".py",
   "mimetype": "text/x-python",
   "name": "python",
   "nbconvert_exporter": "python",
   "pygments_lexer": "ipython3",
   "version": "3.12.4"
  }
 },
 "nbformat": 4,
 "nbformat_minor": 5
}
