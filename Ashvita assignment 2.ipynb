{
 "cells": [
  {
   "cell_type": "code",
   "execution_count": 7,
   "id": "4cbc1ccc-968c-4fdc-bbb3-21fda6a4c695",
   "metadata": {},
   "outputs": [],
   "source": [
    "values = [\n",
    "    [101,' Abhishek Sharma',15,67,89,80,89,90,415],\n",
    "    [102, 'Ashish Kumar ',15,67,89,87,19,90,352],\n",
    "    [103,' Venus Singh',15,67,89,82,89,90,418],\n",
    "    [104,' Ayush Gupta',15,67,79,87,89,90,412],\n",
    "    [105,' Himansh Verma',15,67,89,87,80,90,421],\n",
    "    [106,' Yash Chauhan' ,15,67,89,77,89,90,412],\n",
    "    [107,' Harsh Shrivastava',15,67,49,87,70,90,361],\n",
    "    [108,' Aditi Choudhary',15,67,89,87,89,91,423],\n",
    "    [109,' Ashvita Yadav',100,97,99,97,99,90,482]\n",
    "]"
   ]
  },
  {
   "cell_type": "code",
   "execution_count": 9,
   "id": "8f561f83-f69d-427f-bc9d-3976dd463439",
   "metadata": {},
   "outputs": [],
   "source": [
    "keys = ['StdId','StdName','Age','Hindi','English','Maths','Science','Computer','Total']"
   ]
  },
  {
   "cell_type": "code",
   "execution_count": 11,
   "id": "c5de40de-5914-4ffb-b6f7-ef42efc43d84",
   "metadata": {},
   "outputs": [
    {
     "data": {
      "text/plain": [
       "[{'StdId': 101,\n",
       "  'StdName': ' Abhishek Sharma',\n",
       "  'Age': 15,\n",
       "  'Hindi': 67,\n",
       "  'English': 89,\n",
       "  'Maths': 80,\n",
       "  'Science': 89,\n",
       "  'Computer': 90,\n",
       "  'Total': 415},\n",
       " {'StdId': 102,\n",
       "  'StdName': 'Ashish Kumar ',\n",
       "  'Age': 15,\n",
       "  'Hindi': 67,\n",
       "  'English': 89,\n",
       "  'Maths': 87,\n",
       "  'Science': 19,\n",
       "  'Computer': 90,\n",
       "  'Total': 352},\n",
       " {'StdId': 103,\n",
       "  'StdName': ' Venus Singh',\n",
       "  'Age': 15,\n",
       "  'Hindi': 67,\n",
       "  'English': 89,\n",
       "  'Maths': 82,\n",
       "  'Science': 89,\n",
       "  'Computer': 90,\n",
       "  'Total': 418},\n",
       " {'StdId': 104,\n",
       "  'StdName': ' Ayush Gupta',\n",
       "  'Age': 15,\n",
       "  'Hindi': 67,\n",
       "  'English': 79,\n",
       "  'Maths': 87,\n",
       "  'Science': 89,\n",
       "  'Computer': 90,\n",
       "  'Total': 412},\n",
       " {'StdId': 105,\n",
       "  'StdName': ' Himansh Verma',\n",
       "  'Age': 15,\n",
       "  'Hindi': 67,\n",
       "  'English': 89,\n",
       "  'Maths': 87,\n",
       "  'Science': 80,\n",
       "  'Computer': 90,\n",
       "  'Total': 421},\n",
       " {'StdId': 106,\n",
       "  'StdName': ' Yash Chauhan',\n",
       "  'Age': 15,\n",
       "  'Hindi': 67,\n",
       "  'English': 89,\n",
       "  'Maths': 77,\n",
       "  'Science': 89,\n",
       "  'Computer': 90,\n",
       "  'Total': 412},\n",
       " {'StdId': 107,\n",
       "  'StdName': ' Harsh Shrivastava',\n",
       "  'Age': 15,\n",
       "  'Hindi': 67,\n",
       "  'English': 49,\n",
       "  'Maths': 87,\n",
       "  'Science': 70,\n",
       "  'Computer': 90,\n",
       "  'Total': 361},\n",
       " {'StdId': 108,\n",
       "  'StdName': ' Aditi Choudhary',\n",
       "  'Age': 15,\n",
       "  'Hindi': 67,\n",
       "  'English': 89,\n",
       "  'Maths': 87,\n",
       "  'Science': 89,\n",
       "  'Computer': 91,\n",
       "  'Total': 423},\n",
       " {'StdId': 109,\n",
       "  'StdName': ' Ashvita Yadav',\n",
       "  'Age': 100,\n",
       "  'Hindi': 97,\n",
       "  'English': 99,\n",
       "  'Maths': 97,\n",
       "  'Science': 99,\n",
       "  'Computer': 90,\n",
       "  'Total': 482}]"
      ]
     },
     "execution_count": 11,
     "metadata": {},
     "output_type": "execute_result"
    }
   ],
   "source": [
    "dict_1 = []\n",
    "for index in range(len(values)):\n",
    "    dict_1.append(dict(zip(keys,values[index])))\n",
    "dict_1"
   ]
  },
  {
   "cell_type": "code",
   "execution_count": 13,
   "id": "4147bc7d-982f-4268-bc34-3ed4da693447",
   "metadata": {},
   "outputs": [
    {
     "data": {
      "text/plain": [
       "{0: {'StdId': 101,\n",
       "  'StdName': ' Abhishek Sharma',\n",
       "  'Age': 15,\n",
       "  'Hindi': 67,\n",
       "  'English': 89,\n",
       "  'Maths': 80,\n",
       "  'Science': 89,\n",
       "  'Computer': 90,\n",
       "  'Total': 415},\n",
       " 1: {'StdId': 102,\n",
       "  'StdName': 'Ashish Kumar ',\n",
       "  'Age': 15,\n",
       "  'Hindi': 67,\n",
       "  'English': 89,\n",
       "  'Maths': 87,\n",
       "  'Science': 19,\n",
       "  'Computer': 90,\n",
       "  'Total': 352},\n",
       " 2: {'StdId': 103,\n",
       "  'StdName': ' Venus Singh',\n",
       "  'Age': 15,\n",
       "  'Hindi': 67,\n",
       "  'English': 89,\n",
       "  'Maths': 82,\n",
       "  'Science': 89,\n",
       "  'Computer': 90,\n",
       "  'Total': 418},\n",
       " 3: {'StdId': 104,\n",
       "  'StdName': ' Ayush Gupta',\n",
       "  'Age': 15,\n",
       "  'Hindi': 67,\n",
       "  'English': 79,\n",
       "  'Maths': 87,\n",
       "  'Science': 89,\n",
       "  'Computer': 90,\n",
       "  'Total': 412},\n",
       " 4: {'StdId': 105,\n",
       "  'StdName': ' Himansh Verma',\n",
       "  'Age': 15,\n",
       "  'Hindi': 67,\n",
       "  'English': 89,\n",
       "  'Maths': 87,\n",
       "  'Science': 80,\n",
       "  'Computer': 90,\n",
       "  'Total': 421},\n",
       " 5: {'StdId': 106,\n",
       "  'StdName': ' Yash Chauhan',\n",
       "  'Age': 15,\n",
       "  'Hindi': 67,\n",
       "  'English': 89,\n",
       "  'Maths': 77,\n",
       "  'Science': 89,\n",
       "  'Computer': 90,\n",
       "  'Total': 412},\n",
       " 6: {'StdId': 107,\n",
       "  'StdName': ' Harsh Shrivastava',\n",
       "  'Age': 15,\n",
       "  'Hindi': 67,\n",
       "  'English': 49,\n",
       "  'Maths': 87,\n",
       "  'Science': 70,\n",
       "  'Computer': 90,\n",
       "  'Total': 361},\n",
       " 7: {'StdId': 108,\n",
       "  'StdName': ' Aditi Choudhary',\n",
       "  'Age': 15,\n",
       "  'Hindi': 67,\n",
       "  'English': 89,\n",
       "  'Maths': 87,\n",
       "  'Science': 89,\n",
       "  'Computer': 91,\n",
       "  'Total': 423},\n",
       " 8: {'StdId': 109,\n",
       "  'StdName': ' Ashvita Yadav',\n",
       "  'Age': 100,\n",
       "  'Hindi': 97,\n",
       "  'English': 99,\n",
       "  'Maths': 97,\n",
       "  'Science': 99,\n",
       "  'Computer': 90,\n",
       "  'Total': 482}}"
      ]
     },
     "execution_count": 13,
     "metadata": {},
     "output_type": "execute_result"
    }
   ],
   "source": [
    "dict_2 = {}\n",
    "for index in range(len(values)):\n",
    "    dict_2[index] = (dict(zip(keys,values[index])))\n",
    "dict_2"
   ]
  },
  {
   "cell_type": "code",
   "execution_count": 15,
   "id": "ca8ffc38-43a9-45eb-a2c3-aa9ebf9e4b57",
   "metadata": {},
   "outputs": [
    {
     "name": "stdout",
     "output_type": "stream",
     "text": [
      "Name of student whose marks are greater than 50 in english\n",
      " Abhishek Sharma\n",
      "Ashish Kumar \n",
      " Venus Singh\n",
      " Ayush Gupta\n",
      " Himansh Verma\n",
      " Yash Chauhan\n",
      " Aditi Choudhary\n",
      " Ashvita Yadav\n"
     ]
    }
   ],
   "source": [
    "print('Name of student whose marks are greater than 50 in english')\n",
    "for data in dict_2:\n",
    "    if dict_2[data]['English'] > 50:\n",
    "        print(dict_2[data]['StdName'])"
   ]
  },
  {
   "cell_type": "code",
   "execution_count": 17,
   "id": "58907d1a-17f6-48f8-9987-2a6af3cd3f72",
   "metadata": {},
   "outputs": [
    {
     "name": "stdout",
     "output_type": "stream",
     "text": [
      "Name and Age of top four scorers in maths\n",
      " Ashvita Yadav\n",
      " Aditi Choudhary\n",
      " Harsh Shrivastava\n",
      " Himansh Verma\n"
     ]
    }
   ],
   "source": [
    "print('Name and Age of top four scorers in maths')\n",
    "maths = sorted(dict_2,key = lambda x: dict_2[x]['Maths'])\n",
    "maths.reverse()\n",
    "for data in maths[:4]:\n",
    "    print(dict_2[data]['StdName'])"
   ]
  },
  {
   "cell_type": "code",
   "execution_count": 19,
   "id": "c0370b95-a3ad-415e-bd75-db4d2cbb6348",
   "metadata": {},
   "outputs": [
    {
     "name": "stdout",
     "output_type": "stream",
     "text": [
      "StdId | StdName | Age | Hindi | English | Maths | Science | Computer | Total \n",
      " ----------------------------------------\n",
      "101 |  Abhishek Sharma | 15 | 67 | 89 | 80 | 89 | 90 | 415\n",
      "102 | Ashish Kumar  | 15 | 67 | 89 | 87 | 19 | 90 | 352\n",
      "103 |  Venus Singh | 15 | 67 | 89 | 82 | 89 | 90 | 418\n",
      "104 |  Ayush Gupta | 15 | 67 | 79 | 87 | 89 | 90 | 412\n",
      "105 |  Himansh Verma | 15 | 67 | 89 | 87 | 80 | 90 | 421\n",
      "106 |  Yash Chauhan | 15 | 67 | 89 | 77 | 89 | 90 | 412\n",
      "107 |  Harsh Shrivastava | 15 | 67 | 49 | 87 | 70 | 90 | 361\n",
      "108 |  Aditi Choudhary | 15 | 67 | 89 | 87 | 89 | 91 | 423\n",
      "109 |  Ashvita Yadav | 100 | 97 | 99 | 97 | 99 | 90 | 482\n"
     ]
    }
   ],
   "source": [
    "print(\" | \".join(dict_2[next(iter(dict_2))].keys()), end=\" \\n \")\n",
    "print(\"-\" * 40)\n",
    "\n",
    "for data in dict_2:\n",
    "    print(\" | \".join(map(str, dict_2[data].values())))"
   ]
  },
  {
   "cell_type": "code",
   "execution_count": 21,
   "id": "52e5bf57-4da5-4e76-9c68-0a6ed3a62156",
   "metadata": {},
   "outputs": [
    {
     "name": "stdout",
     "output_type": "stream",
     "text": [
      "Name and Age of top four scorers in maths\n",
      " Ashvita Yadav 16 \n",
      "  Aditi Choudhary 15 \n",
      "  Harsh Shrivastava 15 \n",
      "  Himansh Verma 15 \n",
      " "
     ]
    }
   ],
   "source": [
    "print('Name and Age of top four scorers in maths')\n",
    "maths = sorted(dict_2,key = lambda x: dict_2[x]['Maths'])\n",
    "maths.reverse()\n",
    "dict_2[8]['Age'] = 16\n",
    "for data in maths[:4]:\n",
    "    print(dict_2[data]['StdName'],end = \" \")\n",
    "    print(dict_2[data]['Age'],end = \" \\n \")"
   ]
  },
  {
   "cell_type": "code",
   "execution_count": 23,
   "id": "e5de22d1-d292-4ddd-92e3-82db4592fe88",
   "metadata": {},
   "outputs": [
    {
     "name": "stdout",
     "output_type": "stream",
     "text": [
      "Name, Id of students who are bottom three scorers in Computer\n",
      " Abhishek Sharma 101 \n",
      " Ashish Kumar  102 \n",
      "  Venus Singh 103 \n",
      "  Ayush Gupta 104 \n",
      " "
     ]
    }
   ],
   "source": [
    "print('Name, Id of students who are bottom three scorers in Computer')\n",
    "computers = sorted(dict_2,key = lambda x: dict_2[x]['Computer'])\n",
    "for data in computers[:4]:\n",
    "    print(dict_2[data]['StdName'],end = \" \")\n",
    "    print(dict_2[data]['StdId'],end = \" \\n \")\n",
    "    "
   ]
  }
 ],
 "metadata": {
  "kernelspec": {
   "display_name": "Python 3 (ipykernel)",
   "language": "python",
   "name": "python3"
  },
  "language_info": {
   "codemirror_mode": {
    "name": "ipython",
    "version": 3
   },
   "file_extension": ".py",
   "mimetype": "text/x-python",
   "name": "python",
   "nbconvert_exporter": "python",
   "pygments_lexer": "ipython3",
   "version": "3.12.4"
  }
 },
 "nbformat": 4,
 "nbformat_minor": 5
}
